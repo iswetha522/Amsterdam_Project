{
 "cells": [
  {
   "cell_type": "code",
   "execution_count": 2,
   "metadata": {},
   "outputs": [
    {
     "data": {
      "text/plain": [
       "'/Users/michelle/Documents/Ironhack/Amsterdam_Project/ProjectAmsterdam'"
      ]
     },
     "execution_count": 2,
     "metadata": {},
     "output_type": "execute_result"
    }
   ],
   "source": [
    "import pandas as pd\n",
    "import os\n",
    "os.getcwd()"
   ]
  },
  {
   "cell_type": "code",
   "execution_count": 45,
   "metadata": {},
   "outputs": [
    {
     "data": {
      "text/plain": [
       "ID                                                       (248+0j)\n",
       "KenmerkenPersonen                          (50358.26315789473+0j)\n",
       "Marges                                                        NaN\n",
       "Perioden                                                      NaN\n",
       "SociaalNetwerk_31                           (56.1578947368421+0j)\n",
       "ProfessioneelNetwerk_32                   (16.957407407407413+0j)\n",
       "PlaatsenMaatschappPolitiekeMening_35                          NaN\n",
       "DeelnemenMaatschappOnlineDiscussies_36                        NaN\n",
       "KrantenNieuwsbladenLezenDownloaden_43      (47.61578947368423+0j)\n",
       "dtype: complex128"
      ]
     },
     "execution_count": 45,
     "metadata": {},
     "output_type": "execute_result"
    }
   ],
   "source": [
    "time_online_social_media_2012 = pd.read_csv('83429NED_TypedDataSet_25102020_173514.csv', sep=';', usecols=[0,1,2,3,34,35,38,39,46])\n",
    "\n",
    "\n",
    "# time_online_social_media_2012.sort_values(by=['Perioden'], inplace=True)\n",
    "\n",
    "time_online_social_media_2012.loc[time_online_social_media_2012['Perioden'] == '2012JJ00'].mean()\n",
    "\n",
    "\n",
    "\n"
   ]
  },
  {
   "cell_type": "code",
   "execution_count": 46,
   "metadata": {},
   "outputs": [],
   "source": [
    "# mean of the use of social network \n",
    "\n",
    "# print(time_online_social_media_2012['SociaalNetwerk_31'].mean())\n",
    "\n",
    "# print(time_online_social_media_2013['SociaalNetwerk_31'].mean())\n",
    "\n",
    "# print(time_online_social_media_2014['SociaalNetwerk_31'].mean())\n",
    "\n",
    "# print(time_online_social_media_2015['SociaalNetwerk_31'].mean())\n",
    "\n",
    "# print(time_online_social_media_2016['SociaalNetwerk_31'].mean())\n",
    "\n",
    "# print(time_online_social_media_2017['SociaalNetwerk_31'].mean())\n",
    "\n",
    "# print(time_online_social_media_2018['SociaalNetwerk_31'].mean())\n"
   ]
  },
  {
   "cell_type": "code",
   "execution_count": 47,
   "metadata": {},
   "outputs": [
    {
     "data": {
      "text/plain": [
       "ID                                                       (249+0j)\n",
       "KenmerkenPersonen                          (50358.26315789473+0j)\n",
       "Marges                                                        NaN\n",
       "Perioden                                                      NaN\n",
       "SociaalNetwerk_31                           (59.3017543859649+0j)\n",
       "ProfessioneelNetwerk_32                   (20.698039215686272+0j)\n",
       "PlaatsenMaatschappPolitiekeMening_35      (24.600000000000005+0j)\n",
       "DeelnemenMaatschappOnlineDiscussies_36     (5.849999999999998+0j)\n",
       "KrantenNieuwsbladenLezenDownloaden_43      (47.46491228070175+0j)\n",
       "dtype: complex128"
      ]
     },
     "execution_count": 47,
     "metadata": {},
     "output_type": "execute_result"
    }
   ],
   "source": [
    "time_online_social_media_2013 = pd.read_csv('83429NED_TypedDataSet_25102020_173514.csv', sep=';', usecols=[0,1,2,3,34,35,38,39,46])\n",
    "\n",
    "\n",
    "# time_online_social_media_2013.sort_values(by=['Perioden'], inplace=True)\n",
    "\n",
    "# time_online_social_media_2013.loc[time_online_social_media_2013['Perioden'] == '2013JJ00'].head()\n",
    "\n",
    "\n",
    "time_online_social_media_2013.loc[time_online_social_media_2013['Perioden'] == '2013JJ00'].mean()\n"
   ]
  },
  {
   "cell_type": "code",
   "execution_count": null,
   "metadata": {},
   "outputs": [],
   "source": []
  },
  {
   "cell_type": "code",
   "execution_count": 49,
   "metadata": {},
   "outputs": [
    {
     "data": {
      "text/plain": [
       "ID                                                       (250+0j)\n",
       "KenmerkenPersonen                          (50358.26315789473+0j)\n",
       "Marges                                                        NaN\n",
       "Perioden                                                      NaN\n",
       "SociaalNetwerk_31                         (60.994736842105254+0j)\n",
       "ProfessioneelNetwerk_32                   (21.575438596491225+0j)\n",
       "PlaatsenMaatschappPolitiekeMening_35                          NaN\n",
       "DeelnemenMaatschappOnlineDiscussies_36                        NaN\n",
       "KrantenNieuwsbladenLezenDownloaden_43      (48.99824561403509+0j)\n",
       "dtype: complex128"
      ]
     },
     "execution_count": 49,
     "metadata": {},
     "output_type": "execute_result"
    }
   ],
   "source": [
    "time_online_social_media_2014 = pd.read_csv('83429NED_TypedDataSet_25102020_173514.csv', sep=';', usecols=[0,1,2,3,34,35,38,39,46])\n",
    "\n",
    "\n",
    "# time_online_social_media_2014.sort_values(by=['Perioden'], inplace=True)\n",
    "\n",
    "# time_online_social_media_2014.loc[time_online_social_media_2014['Perioden'] == '2014JJ00'].head()\n",
    "\n",
    "time_online_social_media_2013.loc[time_online_social_media_2014['Perioden'] == '2014JJ00'].mean()\n",
    "\n"
   ]
  },
  {
   "cell_type": "code",
   "execution_count": 50,
   "metadata": {},
   "outputs": [
    {
     "data": {
      "text/plain": [
       "ID                                                       (251+0j)\n",
       "KenmerkenPersonen                          (50358.26315789473+0j)\n",
       "Marges                                                        NaN\n",
       "Perioden                                                      NaN\n",
       "SociaalNetwerk_31                          (60.06666666666667+0j)\n",
       "ProfessioneelNetwerk_32                    (23.27222222222222+0j)\n",
       "PlaatsenMaatschappPolitiekeMening_35      (21.563157894736843+0j)\n",
       "DeelnemenMaatschappOnlineDiscussies_36      (6.10185185185185+0j)\n",
       "KrantenNieuwsbladenLezenDownloaden_43      (47.42105263157894+0j)\n",
       "dtype: complex128"
      ]
     },
     "execution_count": 50,
     "metadata": {},
     "output_type": "execute_result"
    }
   ],
   "source": [
    "time_online_social_media_2015 = pd.read_csv('83429NED_TypedDataSet_25102020_173514.csv', sep=';', usecols=[0,1,2,3,34,35,38,39,46])\n",
    "\n",
    "\n",
    "# time_online_social_media_2015.sort_values(by=['Perioden'], inplace=True)\n",
    "\n",
    "time_online_social_media_2015.loc[time_online_social_media_2015['Perioden'] == '2015JJ00'].head()\n",
    "\n",
    "time_online_social_media_2015.loc[time_online_social_media_2015['Perioden'] == '2015JJ00'].mean()\n"
   ]
  },
  {
   "cell_type": "code",
   "execution_count": 51,
   "metadata": {},
   "outputs": [
    {
     "data": {
      "text/plain": [
       "ID                                                       (252+0j)\n",
       "KenmerkenPersonen                          (50358.26315789473+0j)\n",
       "Marges                                                        NaN\n",
       "Perioden                                                      NaN\n",
       "SociaalNetwerk_31                         (61.964912280701746+0j)\n",
       "ProfessioneelNetwerk_32                   (23.168421052631576+0j)\n",
       "PlaatsenMaatschappPolitiekeMening_35      (22.542105263157897+0j)\n",
       "DeelnemenMaatschappOnlineDiscussies_36     (6.949122807017541+0j)\n",
       "KrantenNieuwsbladenLezenDownloaden_43      (59.64912280701753+0j)\n",
       "dtype: complex128"
      ]
     },
     "execution_count": 51,
     "metadata": {},
     "output_type": "execute_result"
    }
   ],
   "source": [
    "time_online_social_media_2016 = pd.read_csv('83429NED_TypedDataSet_25102020_173514.csv', sep=';', usecols=[0,1,2,3,34,35,38,39,46])\n",
    "\n",
    "\n",
    "# time_online_social_media_2016.sort_values(by=['Perioden'], inplace=True)\n",
    "\n",
    "time_online_social_media_2016.loc[time_online_social_media_2016['Perioden'] == '2016JJ00'].head()\n",
    "\n",
    "time_online_social_media_2016.loc[time_online_social_media_2016['Perioden'] == '2016JJ00'].mean()\n"
   ]
  },
  {
   "cell_type": "code",
   "execution_count": 52,
   "metadata": {},
   "outputs": [
    {
     "data": {
      "text/plain": [
       "ID                                                       (253+0j)\n",
       "KenmerkenPersonen                          (50358.26315789473+0j)\n",
       "Marges                                                        NaN\n",
       "Perioden                                                      NaN\n",
       "SociaalNetwerk_31                          (68.43508771929822+0j)\n",
       "ProfessioneelNetwerk_32                   (26.701754385964904+0j)\n",
       "PlaatsenMaatschappPolitiekeMening_35       (7.842105263157898+0j)\n",
       "DeelnemenMaatschappOnlineDiscussies_36     (8.770175438596489+0j)\n",
       "KrantenNieuwsbladenLezenDownloaden_43       (66.7280701754386+0j)\n",
       "dtype: complex128"
      ]
     },
     "execution_count": 52,
     "metadata": {},
     "output_type": "execute_result"
    }
   ],
   "source": [
    "time_online_social_media_2017 = pd.read_csv('83429NED_TypedDataSet_25102020_173514.csv', sep=';', usecols=[0,1,2,3,34,35,38,39,46])\n",
    "\n",
    "\n",
    "# time_online_social_media_2017.sort_values(by=['Perioden'], inplace=True)\n",
    "\n",
    "time_online_social_media_2017.loc[time_online_social_media_2017['Perioden'] == '2017JJ00'].head()\n",
    "\n",
    "time_online_social_media_2017.loc[time_online_social_media_2017['Perioden'] == '2017JJ00'].mean()\n",
    "\n"
   ]
  },
  {
   "cell_type": "code",
   "execution_count": 53,
   "metadata": {},
   "outputs": [
    {
     "data": {
      "text/plain": [
       "ID                                                       (253+0j)\n",
       "KenmerkenPersonen                          (50358.26315789473+0j)\n",
       "Marges                                                        NaN\n",
       "Perioden                                                      NaN\n",
       "SociaalNetwerk_31                          (68.43508771929822+0j)\n",
       "ProfessioneelNetwerk_32                   (26.701754385964904+0j)\n",
       "PlaatsenMaatschappPolitiekeMening_35       (7.842105263157898+0j)\n",
       "DeelnemenMaatschappOnlineDiscussies_36     (8.770175438596489+0j)\n",
       "KrantenNieuwsbladenLezenDownloaden_43       (66.7280701754386+0j)\n",
       "dtype: complex128"
      ]
     },
     "execution_count": 53,
     "metadata": {},
     "output_type": "execute_result"
    }
   ],
   "source": [
    "time_online_social_media_2018 = pd.read_csv('83429NED_TypedDataSet_25102020_173514.csv', sep=';', usecols=[0,1,2,3,34,35,38,39,46])\n",
    "\n",
    "\n",
    "# time_online_social_media_2018.sort_values(by=['Perioden'], inplace=True)\n",
    "\n",
    "time_online_social_media_2018.loc[time_online_social_media_2018['Perioden'] == '2018JJ00'].head()\n",
    "\n",
    "time_online_social_media_2017.loc[time_online_social_media_2017['Perioden'] == '2017JJ00'].mean()\n",
    "\n"
   ]
  },
  {
   "cell_type": "code",
   "execution_count": 54,
   "metadata": {},
   "outputs": [
    {
     "data": {
      "text/plain": [
       "ID                                                       (255+0j)\n",
       "KenmerkenPersonen                          (50358.26315789473+0j)\n",
       "Marges                                                        NaN\n",
       "Perioden                                                      NaN\n",
       "SociaalNetwerk_31                          (68.14912280701752+0j)\n",
       "ProfessioneelNetwerk_32                   (28.810526315789478+0j)\n",
       "PlaatsenMaatschappPolitiekeMening_35       (7.970175438596491+0j)\n",
       "DeelnemenMaatschappOnlineDiscussies_36     (8.431578947368422+0j)\n",
       "KrantenNieuwsbladenLezenDownloaden_43      (66.34035087719298+0j)\n",
       "dtype: complex128"
      ]
     },
     "execution_count": 54,
     "metadata": {},
     "output_type": "execute_result"
    }
   ],
   "source": [
    "time_online_social_media_2019 = pd.read_csv('83429NED_TypedDataSet_25102020_173514.csv', sep=';', usecols=[0,1,2,3,34,35,38,39,46])\n",
    "\n",
    "\n",
    "# time_online_social_media_2019.sort_values(by=['Perioden'], inplace=True)\n",
    "\n",
    "time_online_social_media_2019.loc[time_online_social_media_2019['Perioden'] == '2019JJ00'].head()\n",
    "\n",
    "time_online_social_media_2019.loc[time_online_social_media_2019['Perioden'] == '2019JJ00'].mean()\n",
    "\n"
   ]
  },
  {
   "cell_type": "code",
   "execution_count": null,
   "metadata": {},
   "outputs": [],
   "source": []
  },
  {
   "cell_type": "code",
   "execution_count": null,
   "metadata": {},
   "outputs": [],
   "source": [
    "time_online = pd.read_csv('83429NED_TypedDataSet_25102020_173514.csv', sep=';', usecols=[0,1,2,3,30,31,32,33,34,35,36,37,38,39,44,45,46,53])\n",
    "\n",
    "\n",
    "time_online.sort_values(by=['Perioden'], inplace=True)\n",
    "\n",
    "time_online.set_index('Perioden').head()\n",
    "\n",
    "# about what people do IF they are online\n",
    "# how do they spent their time "
   ]
  },
  {
   "cell_type": "code",
   "execution_count": null,
   "metadata": {},
   "outputs": [],
   "source": [
    "time_online_1 = pd.read_csv('83429NED_TypedDataSet_25102020_173514.csv', sep=';', usecols=[0,1,2,3,12,13,14,15,16,17,18])\n",
    "\n",
    "time_online_1.sort_values(by=['Perioden'], inplace=True)\n",
    "\n",
    "time_online_1.set_index('Perioden').head()\n",
    "\n",
    "# I'm not sure if I understand Searching on websites, because in the dataframe there were 3 different columns \n",
    "# with this name, but different values\n",
    "\n",
    "# how often do they spend their time online"
   ]
  },
  {
   "cell_type": "code",
   "execution_count": null,
   "metadata": {},
   "outputs": [],
   "source": [
    "time_online_3 = pd.read_csv('83429NED_TypedDataSet_25102020_173514.csv', sep=';', usecols=[0,1,2,3,12,13,14,15,16,17,18])\n",
    "\n",
    "time_online_3.sort_values(by=['Perioden'], inplace=True)\n",
    "\n",
    "time_online_3.set_index('Perioden').head()"
   ]
  }
 ],
 "metadata": {
  "kernelspec": {
   "display_name": "Python 3",
   "language": "python",
   "name": "python3"
  },
  "language_info": {
   "codemirror_mode": {
    "name": "ipython",
    "version": 3
   },
   "file_extension": ".py",
   "mimetype": "text/x-python",
   "name": "python",
   "nbconvert_exporter": "python",
   "pygments_lexer": "ipython3",
   "version": "3.7.0"
  }
 },
 "nbformat": 4,
 "nbformat_minor": 2
}
