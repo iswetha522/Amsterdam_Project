{
 "cells": [
  {
   "cell_type": "code",
   "execution_count": 2,
   "metadata": {},
   "outputs": [
    {
     "data": {
      "text/plain": [
       "'/Users/michelle/Documents/Ironhack/Amsterdam_Project/ProjectAmsterdam'"
      ]
     },
     "execution_count": 2,
     "metadata": {},
     "output_type": "execute_result"
    }
   ],
   "source": [
    "import pandas as pd\n",
    "import os\n",
    "os.getcwd()"
   ]
  },
  {
   "cell_type": "code",
   "execution_count": 4,
   "metadata": {},
   "outputs": [
    {
     "data": {
      "text/html": [
       "<div>\n",
       "<style scoped>\n",
       "    .dataframe tbody tr th:only-of-type {\n",
       "        vertical-align: middle;\n",
       "    }\n",
       "\n",
       "    .dataframe tbody tr th {\n",
       "        vertical-align: top;\n",
       "    }\n",
       "\n",
       "    .dataframe thead th {\n",
       "        text-align: right;\n",
       "    }\n",
       "</style>\n",
       "<table border=\"1\" class=\"dataframe\">\n",
       "  <thead>\n",
       "    <tr style=\"text-align: right;\">\n",
       "      <th></th>\n",
       "      <th>SociaalNetwerk_31</th>\n",
       "      <th>ProfessioneelNetwerk_32</th>\n",
       "      <th>KrantenNieuwsbladenLezenDownloaden_43</th>\n",
       "    </tr>\n",
       "    <tr>\n",
       "      <th>Perioden</th>\n",
       "      <th></th>\n",
       "      <th></th>\n",
       "      <th></th>\n",
       "    </tr>\n",
       "  </thead>\n",
       "  <tbody>\n",
       "    <tr>\n",
       "      <th>2012JJ00</th>\n",
       "      <td>56.157895</td>\n",
       "      <td>16.957407</td>\n",
       "      <td>47.615789</td>\n",
       "    </tr>\n",
       "    <tr>\n",
       "      <th>2013JJ00</th>\n",
       "      <td>59.301754</td>\n",
       "      <td>20.698039</td>\n",
       "      <td>47.464912</td>\n",
       "    </tr>\n",
       "    <tr>\n",
       "      <th>2014JJ00</th>\n",
       "      <td>60.994737</td>\n",
       "      <td>21.575439</td>\n",
       "      <td>48.998246</td>\n",
       "    </tr>\n",
       "    <tr>\n",
       "      <th>2015JJ00</th>\n",
       "      <td>60.066667</td>\n",
       "      <td>23.272222</td>\n",
       "      <td>47.421053</td>\n",
       "    </tr>\n",
       "    <tr>\n",
       "      <th>2016JJ00</th>\n",
       "      <td>61.964912</td>\n",
       "      <td>23.168421</td>\n",
       "      <td>59.649123</td>\n",
       "    </tr>\n",
       "    <tr>\n",
       "      <th>2017JJ00</th>\n",
       "      <td>68.435088</td>\n",
       "      <td>26.701754</td>\n",
       "      <td>66.728070</td>\n",
       "    </tr>\n",
       "    <tr>\n",
       "      <th>2018JJ00</th>\n",
       "      <td>66.989474</td>\n",
       "      <td>27.201754</td>\n",
       "      <td>62.143860</td>\n",
       "    </tr>\n",
       "    <tr>\n",
       "      <th>2019JJ00</th>\n",
       "      <td>68.149123</td>\n",
       "      <td>28.810526</td>\n",
       "      <td>66.340351</td>\n",
       "    </tr>\n",
       "  </tbody>\n",
       "</table>\n",
       "</div>"
      ],
      "text/plain": [
       "          SociaalNetwerk_31  ProfessioneelNetwerk_32  \\\n",
       "Perioden                                               \n",
       "2012JJ00          56.157895                16.957407   \n",
       "2013JJ00          59.301754                20.698039   \n",
       "2014JJ00          60.994737                21.575439   \n",
       "2015JJ00          60.066667                23.272222   \n",
       "2016JJ00          61.964912                23.168421   \n",
       "2017JJ00          68.435088                26.701754   \n",
       "2018JJ00          66.989474                27.201754   \n",
       "2019JJ00          68.149123                28.810526   \n",
       "\n",
       "          KrantenNieuwsbladenLezenDownloaden_43  \n",
       "Perioden                                         \n",
       "2012JJ00                              47.615789  \n",
       "2013JJ00                              47.464912  \n",
       "2014JJ00                              48.998246  \n",
       "2015JJ00                              47.421053  \n",
       "2016JJ00                              59.649123  \n",
       "2017JJ00                              66.728070  \n",
       "2018JJ00                              62.143860  \n",
       "2019JJ00                              66.340351  "
      ]
     },
     "execution_count": 4,
     "metadata": {},
     "output_type": "execute_result"
    }
   ],
   "source": [
    "time_online_social_media_2012_2019 = pd.read_csv('83429NED_TypedDataSet_25102020_173514.csv', sep=';', usecols=[0,1,2,3,34,35,38,39,46])\n",
    "\n",
    "\n",
    "time_online_social_media_2012_2019.groupby(['Perioden'])['SociaalNetwerk_31', 'ProfessioneelNetwerk_32', 'KrantenNieuwsbladenLezenDownloaden_43'].mean()"
   ]
  },
  {
   "cell_type": "code",
   "execution_count": null,
   "metadata": {},
   "outputs": [],
   "source": [
    "1. \n",
    "# the amount spend online by people (so by the voters)\n",
    "# the amount of votes over the years for different parties\n",
    "# their correlation\n",
    "\n",
    "2.\n",
    "# the use of social media platforms by parties\n",
    "# the amount of votes\n",
    "# their correlation\n",
    "\n",
    "\n",
    "\n"
   ]
  }
 ],
 "metadata": {
  "kernelspec": {
   "display_name": "Python 3",
   "language": "python",
   "name": "python3"
  },
  "language_info": {
   "codemirror_mode": {
    "name": "ipython",
    "version": 3
   },
   "file_extension": ".py",
   "mimetype": "text/x-python",
   "name": "python",
   "nbconvert_exporter": "python",
   "pygments_lexer": "ipython3",
   "version": "3.7.0"
  }
 },
 "nbformat": 4,
 "nbformat_minor": 2
}
