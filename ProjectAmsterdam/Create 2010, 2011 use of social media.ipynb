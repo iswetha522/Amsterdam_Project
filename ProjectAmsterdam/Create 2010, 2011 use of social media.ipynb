{
 "cells": [
  {
   "cell_type": "code",
   "execution_count": 1,
   "metadata": {},
   "outputs": [],
   "source": [
    "from sklearn.linear_model import LinearRegression\n"
   ]
  },
  {
   "cell_type": "code",
   "execution_count": 9,
   "metadata": {},
   "outputs": [
    {
     "data": {
      "text/plain": [
       "'/Users/michelle/Documents/Ironhack/Amsterdam_Project/ProjectAmsterdam'"
      ]
     },
     "execution_count": 9,
     "metadata": {},
     "output_type": "execute_result"
    }
   ],
   "source": [
    "import pandas as pd\n",
    "import os\n",
    "import numpy as np\n",
    "os.getcwd()"
   ]
  },
  {
   "cell_type": "code",
   "execution_count": null,
   "metadata": {},
   "outputs": [],
   "source": [
    "# lr = LinearRegression(normalize=True)\n",
    "# lr.fit()"
   ]
  },
  {
   "cell_type": "code",
   "execution_count": 26,
   "metadata": {},
   "outputs": [
    {
     "data": {
      "text/html": [
       "<div>\n",
       "<style scoped>\n",
       "    .dataframe tbody tr th:only-of-type {\n",
       "        vertical-align: middle;\n",
       "    }\n",
       "\n",
       "    .dataframe tbody tr th {\n",
       "        vertical-align: top;\n",
       "    }\n",
       "\n",
       "    .dataframe thead th {\n",
       "        text-align: right;\n",
       "    }\n",
       "</style>\n",
       "<table border=\"1\" class=\"dataframe\">\n",
       "  <thead>\n",
       "    <tr style=\"text-align: right;\">\n",
       "      <th></th>\n",
       "      <th>0</th>\n",
       "    </tr>\n",
       "  </thead>\n",
       "  <tbody>\n",
       "    <tr>\n",
       "      <th>SociaalNetwerk_31</th>\n",
       "      <td>1.713033</td>\n",
       "    </tr>\n",
       "    <tr>\n",
       "      <th>ProfessioneelNetwerk_32</th>\n",
       "      <td>1.693303</td>\n",
       "    </tr>\n",
       "    <tr>\n",
       "      <th>KrantenNieuwsbladenLezenDownloaden_43</th>\n",
       "      <td>2.674937</td>\n",
       "    </tr>\n",
       "  </tbody>\n",
       "</table>\n",
       "</div>"
      ],
      "text/plain": [
       "                                              0\n",
       "SociaalNetwerk_31                      1.713033\n",
       "ProfessioneelNetwerk_32                1.693303\n",
       "KrantenNieuwsbladenLezenDownloaden_43  2.674937"
      ]
     },
     "execution_count": 26,
     "metadata": {},
     "output_type": "execute_result"
    }
   ],
   "source": [
    "diffs = time_on_SM.diff()\n",
    "\n",
    "diffs = diffs.mean()\n",
    "\n",
    "pd.DataFrame(diffs)"
   ]
  },
  {
   "cell_type": "code",
   "execution_count": 24,
   "metadata": {},
   "outputs": [
    {
     "data": {
      "text/plain": [
       "SociaalNetwerk_31                        0.028789\n",
       "ProfessioneelNetwerk_32                  0.081077\n",
       "KrantenNieuwsbladenLezenDownloaden_43    0.053188\n",
       "dtype: float64"
      ]
     },
     "execution_count": 24,
     "metadata": {},
     "output_type": "execute_result"
    }
   ],
   "source": [
    "# percentage = time_on_SM.pct_change()\n",
    "\n",
    "# percentage.mean()"
   ]
  },
  {
   "cell_type": "code",
   "execution_count": 19,
   "metadata": {},
   "outputs": [
    {
     "data": {
      "text/html": [
       "<div>\n",
       "<style scoped>\n",
       "    .dataframe tbody tr th:only-of-type {\n",
       "        vertical-align: middle;\n",
       "    }\n",
       "\n",
       "    .dataframe tbody tr th {\n",
       "        vertical-align: top;\n",
       "    }\n",
       "\n",
       "    .dataframe thead th {\n",
       "        text-align: right;\n",
       "    }\n",
       "</style>\n",
       "<table border=\"1\" class=\"dataframe\">\n",
       "  <thead>\n",
       "    <tr style=\"text-align: right;\">\n",
       "      <th></th>\n",
       "      <th>0</th>\n",
       "    </tr>\n",
       "  </thead>\n",
       "  <tbody>\n",
       "    <tr>\n",
       "      <th>SociaalNetwerk_31</th>\n",
       "      <td>0.028789</td>\n",
       "    </tr>\n",
       "    <tr>\n",
       "      <th>ProfessioneelNetwerk_32</th>\n",
       "      <td>0.081077</td>\n",
       "    </tr>\n",
       "    <tr>\n",
       "      <th>KrantenNieuwsbladenLezenDownloaden_43</th>\n",
       "      <td>0.053188</td>\n",
       "    </tr>\n",
       "  </tbody>\n",
       "</table>\n",
       "</div>"
      ],
      "text/plain": [
       "                                              0\n",
       "SociaalNetwerk_31                      0.028789\n",
       "ProfessioneelNetwerk_32                0.081077\n",
       "KrantenNieuwsbladenLezenDownloaden_43  0.053188"
      ]
     },
     "execution_count": 19,
     "metadata": {},
     "output_type": "execute_result"
    }
   ],
   "source": [
    "# percent = percentage.mean()\n",
    "\n",
    "# pd.DataFrame(percent)"
   ]
  },
  {
   "cell_type": "code",
   "execution_count": 23,
   "metadata": {},
   "outputs": [
    {
     "data": {
      "text/plain": [
       "54.54116536084501"
      ]
     },
     "execution_count": 23,
     "metadata": {},
     "output_type": "execute_result"
    }
   ],
   "source": [
    "def function(x, y):\n",
    "    return x * (1-y)\n",
    "\n",
    "print(function(56.157895, 0.028789))\n",
    "\n",
    "print(function(16.957407, 0.081077))\n",
    "\n"
   ]
  },
  {
   "cell_type": "code",
   "execution_count": 14,
   "metadata": {},
   "outputs": [
    {
     "data": {
      "text/html": [
       "<div>\n",
       "<style scoped>\n",
       "    .dataframe tbody tr th:only-of-type {\n",
       "        vertical-align: middle;\n",
       "    }\n",
       "\n",
       "    .dataframe tbody tr th {\n",
       "        vertical-align: top;\n",
       "    }\n",
       "\n",
       "    .dataframe thead th {\n",
       "        text-align: right;\n",
       "    }\n",
       "</style>\n",
       "<table border=\"1\" class=\"dataframe\">\n",
       "  <thead>\n",
       "    <tr style=\"text-align: right;\">\n",
       "      <th></th>\n",
       "      <th>SociaalNetwerk_31</th>\n",
       "      <th>ProfessioneelNetwerk_32</th>\n",
       "      <th>KrantenNieuwsbladenLezenDownloaden_43</th>\n",
       "    </tr>\n",
       "    <tr>\n",
       "      <th>Perioden</th>\n",
       "      <th></th>\n",
       "      <th></th>\n",
       "      <th></th>\n",
       "    </tr>\n",
       "  </thead>\n",
       "  <tbody>\n",
       "    <tr>\n",
       "      <th>2012JJ00</th>\n",
       "      <td>56.157895</td>\n",
       "      <td>16.957407</td>\n",
       "      <td>47.615789</td>\n",
       "    </tr>\n",
       "    <tr>\n",
       "      <th>2013JJ00</th>\n",
       "      <td>59.301754</td>\n",
       "      <td>20.698039</td>\n",
       "      <td>47.464912</td>\n",
       "    </tr>\n",
       "    <tr>\n",
       "      <th>2014JJ00</th>\n",
       "      <td>60.994737</td>\n",
       "      <td>21.575439</td>\n",
       "      <td>48.998246</td>\n",
       "    </tr>\n",
       "    <tr>\n",
       "      <th>2015JJ00</th>\n",
       "      <td>60.066667</td>\n",
       "      <td>23.272222</td>\n",
       "      <td>47.421053</td>\n",
       "    </tr>\n",
       "    <tr>\n",
       "      <th>2016JJ00</th>\n",
       "      <td>61.964912</td>\n",
       "      <td>23.168421</td>\n",
       "      <td>59.649123</td>\n",
       "    </tr>\n",
       "    <tr>\n",
       "      <th>2017JJ00</th>\n",
       "      <td>68.435088</td>\n",
       "      <td>26.701754</td>\n",
       "      <td>66.728070</td>\n",
       "    </tr>\n",
       "    <tr>\n",
       "      <th>2018JJ00</th>\n",
       "      <td>66.989474</td>\n",
       "      <td>27.201754</td>\n",
       "      <td>62.143860</td>\n",
       "    </tr>\n",
       "    <tr>\n",
       "      <th>2019JJ00</th>\n",
       "      <td>68.149123</td>\n",
       "      <td>28.810526</td>\n",
       "      <td>66.340351</td>\n",
       "    </tr>\n",
       "  </tbody>\n",
       "</table>\n",
       "</div>"
      ],
      "text/plain": [
       "          SociaalNetwerk_31  ProfessioneelNetwerk_32  \\\n",
       "Perioden                                               \n",
       "2012JJ00          56.157895                16.957407   \n",
       "2013JJ00          59.301754                20.698039   \n",
       "2014JJ00          60.994737                21.575439   \n",
       "2015JJ00          60.066667                23.272222   \n",
       "2016JJ00          61.964912                23.168421   \n",
       "2017JJ00          68.435088                26.701754   \n",
       "2018JJ00          66.989474                27.201754   \n",
       "2019JJ00          68.149123                28.810526   \n",
       "\n",
       "          KrantenNieuwsbladenLezenDownloaden_43  \n",
       "Perioden                                         \n",
       "2012JJ00                              47.615789  \n",
       "2013JJ00                              47.464912  \n",
       "2014JJ00                              48.998246  \n",
       "2015JJ00                              47.421053  \n",
       "2016JJ00                              59.649123  \n",
       "2017JJ00                              66.728070  \n",
       "2018JJ00                              62.143860  \n",
       "2019JJ00                              66.340351  "
      ]
     },
     "execution_count": 14,
     "metadata": {},
     "output_type": "execute_result"
    }
   ],
   "source": [
    "time_online_social_media_2012 = pd.read_csv('83429NED_TypedDataSet_25102020_173514.csv', sep=';', usecols=[0,1,2,3,34,35,38,39,46])\n",
    "\n",
    "\n",
    "time_on_SM = time_online_social_media_2012.groupby(['Perioden'])['SociaalNetwerk_31', 'ProfessioneelNetwerk_32', 'KrantenNieuwsbladenLezenDownloaden_43'].mean()\n",
    "\n",
    "time_on_SM\n"
   ]
  },
  {
   "cell_type": "code",
   "execution_count": 70,
   "metadata": {},
   "outputs": [
    {
     "data": {
      "text/html": [
       "<div>\n",
       "<style scoped>\n",
       "    .dataframe tbody tr th:only-of-type {\n",
       "        vertical-align: middle;\n",
       "    }\n",
       "\n",
       "    .dataframe tbody tr th {\n",
       "        vertical-align: top;\n",
       "    }\n",
       "\n",
       "    .dataframe thead th {\n",
       "        text-align: right;\n",
       "    }\n",
       "</style>\n",
       "<table border=\"1\" class=\"dataframe\">\n",
       "  <thead>\n",
       "    <tr style=\"text-align: right;\">\n",
       "      <th></th>\n",
       "      <th>SociaalNetwerk_31</th>\n",
       "      <th>ProfessioneelNetwerk_32</th>\n",
       "      <th>KrantenNieuwsbladenLezenDownloaden_43</th>\n",
       "    </tr>\n",
       "    <tr>\n",
       "      <th>Perioden</th>\n",
       "      <th></th>\n",
       "      <th></th>\n",
       "      <th></th>\n",
       "    </tr>\n",
       "  </thead>\n",
       "  <tbody>\n",
       "    <tr>\n",
       "      <th>2010JJ00</th>\n",
       "      <td>52.731829</td>\n",
       "      <td>13.570801</td>\n",
       "      <td>42.115038</td>\n",
       "    </tr>\n",
       "    <tr>\n",
       "      <th>2011JJ00</th>\n",
       "      <td>54.444862</td>\n",
       "      <td>15.264104</td>\n",
       "      <td>44.789975</td>\n",
       "    </tr>\n",
       "    <tr>\n",
       "      <th>2012JJ00</th>\n",
       "      <td>56.157895</td>\n",
       "      <td>16.957407</td>\n",
       "      <td>47.615789</td>\n",
       "    </tr>\n",
       "    <tr>\n",
       "      <th>2013JJ00</th>\n",
       "      <td>59.301754</td>\n",
       "      <td>20.698039</td>\n",
       "      <td>47.464912</td>\n",
       "    </tr>\n",
       "    <tr>\n",
       "      <th>2014JJ00</th>\n",
       "      <td>60.994737</td>\n",
       "      <td>21.575439</td>\n",
       "      <td>48.998246</td>\n",
       "    </tr>\n",
       "    <tr>\n",
       "      <th>2015JJ00</th>\n",
       "      <td>60.066667</td>\n",
       "      <td>23.272222</td>\n",
       "      <td>47.421053</td>\n",
       "    </tr>\n",
       "    <tr>\n",
       "      <th>2016JJ00</th>\n",
       "      <td>61.964912</td>\n",
       "      <td>23.168421</td>\n",
       "      <td>59.649123</td>\n",
       "    </tr>\n",
       "    <tr>\n",
       "      <th>2017JJ00</th>\n",
       "      <td>68.435088</td>\n",
       "      <td>26.701754</td>\n",
       "      <td>66.728070</td>\n",
       "    </tr>\n",
       "    <tr>\n",
       "      <th>2018JJ00</th>\n",
       "      <td>66.989474</td>\n",
       "      <td>27.201754</td>\n",
       "      <td>62.143860</td>\n",
       "    </tr>\n",
       "    <tr>\n",
       "      <th>2019JJ00</th>\n",
       "      <td>68.149123</td>\n",
       "      <td>28.810526</td>\n",
       "      <td>66.340351</td>\n",
       "    </tr>\n",
       "  </tbody>\n",
       "</table>\n",
       "</div>"
      ],
      "text/plain": [
       "          SociaalNetwerk_31  ProfessioneelNetwerk_32  \\\n",
       "Perioden                                               \n",
       "2010JJ00          52.731829                13.570801   \n",
       "2011JJ00          54.444862                15.264104   \n",
       "2012JJ00          56.157895                16.957407   \n",
       "2013JJ00          59.301754                20.698039   \n",
       "2014JJ00          60.994737                21.575439   \n",
       "2015JJ00          60.066667                23.272222   \n",
       "2016JJ00          61.964912                23.168421   \n",
       "2017JJ00          68.435088                26.701754   \n",
       "2018JJ00          66.989474                27.201754   \n",
       "2019JJ00          68.149123                28.810526   \n",
       "\n",
       "          KrantenNieuwsbladenLezenDownloaden_43  \n",
       "Perioden                                         \n",
       "2010JJ00                              42.115038  \n",
       "2011JJ00                              44.789975  \n",
       "2012JJ00                              47.615789  \n",
       "2013JJ00                              47.464912  \n",
       "2014JJ00                              48.998246  \n",
       "2015JJ00                              47.421053  \n",
       "2016JJ00                              59.649123  \n",
       "2017JJ00                              66.728070  \n",
       "2018JJ00                              62.143860  \n",
       "2019JJ00                              66.340351  "
      ]
     },
     "execution_count": 70,
     "metadata": {},
     "output_type": "execute_result"
    }
   ],
   "source": [
    "new_time = time_on_SM.transpose()\n",
    "\n",
    "# new_time['2010JJ00'] = [52.731829, 13.570801, 42.115038]\n",
    "\n",
    "# new_time['2011JJ00'] = [54.444862, 15.264104, 44.789975]\n",
    "\n",
    "\n",
    "new_time.insert(0, '2010JJ00', [52.731829, 13.570801, 42.115038], True)\n",
    "\n",
    "new_time.insert(1, '2011JJ00', [54.444862, 15.264104, 44.789975], True)\n",
    "\n",
    "time_social_media = new_time.transpose()\n",
    "\n",
    "time_social_media\n",
    "\n",
    "# column_order = ['2010JJ00', '2011JJ00', '2012JJ00', '2013JJ00']\n",
    "\n",
    "# df.insert(2, \"Age\", [21, 23, 24, 21], True) \n",
    "\n",
    "\n",
    "\n"
   ]
  },
  {
   "cell_type": "code",
   "execution_count": 36,
   "metadata": {},
   "outputs": [
    {
     "data": {
      "text/html": [
       "<div>\n",
       "<style scoped>\n",
       "    .dataframe tbody tr th:only-of-type {\n",
       "        vertical-align: middle;\n",
       "    }\n",
       "\n",
       "    .dataframe tbody tr th {\n",
       "        vertical-align: top;\n",
       "    }\n",
       "\n",
       "    .dataframe thead th {\n",
       "        text-align: right;\n",
       "    }\n",
       "</style>\n",
       "<table border=\"1\" class=\"dataframe\">\n",
       "  <thead>\n",
       "    <tr style=\"text-align: right;\">\n",
       "      <th></th>\n",
       "      <th>0</th>\n",
       "    </tr>\n",
       "  </thead>\n",
       "  <tbody>\n",
       "    <tr>\n",
       "      <th>SociaalNetwerk_31</th>\n",
       "      <td>1.713033</td>\n",
       "    </tr>\n",
       "    <tr>\n",
       "      <th>ProfessioneelNetwerk_32</th>\n",
       "      <td>1.693303</td>\n",
       "    </tr>\n",
       "    <tr>\n",
       "      <th>KrantenNieuwsbladenLezenDownloaden_43</th>\n",
       "      <td>2.674937</td>\n",
       "    </tr>\n",
       "  </tbody>\n",
       "</table>\n",
       "</div>"
      ],
      "text/plain": [
       "                                              0\n",
       "SociaalNetwerk_31                      1.713033\n",
       "ProfessioneelNetwerk_32                1.693303\n",
       "KrantenNieuwsbladenLezenDownloaden_43  2.674937"
      ]
     },
     "execution_count": 36,
     "metadata": {},
     "output_type": "execute_result"
    }
   ],
   "source": [
    "diffs = time_on_SM.diff()\n",
    "\n",
    "diffs = diffs.mean()\n",
    "\n",
    "pd.DataFrame(diffs)"
   ]
  },
  {
   "cell_type": "code",
   "execution_count": 61,
   "metadata": {},
   "outputs": [
    {
     "name": "stdout",
     "output_type": "stream",
     "text": [
      "54.444862\n",
      "52.731829\n",
      "15.264104\n",
      "13.570801\n",
      "44.789975\n",
      "42.115038\n"
     ]
    }
   ],
   "source": [
    "def subtract(x, y):\n",
    "    return x - y\n",
    "\n",
    "print(subtract(56.157895, 1.713033))\n",
    "\n",
    "print(subtract(54.444862, 1.713033))\n",
    "\n",
    "print(subtract(16.957407, 1.693303))\n",
    "\n",
    "print(subtract(15.264104, 1.693303))\n",
    "\n",
    "print(subtract(47.464912, 2.674937))\n",
    "      \n",
    "print(subtract(44.789975, 2.674937))\n",
    "\n",
    "\n",
    "# 2011\n",
    "\n",
    "# 54.444862, 15.264104, 44.789975\n",
    "\n",
    "# 2010\n",
    "\n",
    "# 52.731829, 13.570801, 42.115038\n",
    "\n",
    "\n",
    "\n",
    "\n"
   ]
  },
  {
   "cell_type": "code",
   "execution_count": null,
   "metadata": {},
   "outputs": [],
   "source": []
  }
 ],
 "metadata": {
  "kernelspec": {
   "display_name": "Python 3",
   "language": "python",
   "name": "python3"
  },
  "language_info": {
   "codemirror_mode": {
    "name": "ipython",
    "version": 3
   },
   "file_extension": ".py",
   "mimetype": "text/x-python",
   "name": "python",
   "nbconvert_exporter": "python",
   "pygments_lexer": "ipython3",
   "version": "3.7.0"
  }
 },
 "nbformat": 4,
 "nbformat_minor": 2
}
