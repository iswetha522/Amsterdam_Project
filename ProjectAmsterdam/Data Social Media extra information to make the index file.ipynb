{
 "cells": [
  {
   "cell_type": "code",
   "execution_count": 24,
   "metadata": {},
   "outputs": [],
   "source": [
    "import pandas as pd\n",
    "import os\n"
   ]
  },
  {
   "cell_type": "code",
   "execution_count": 25,
   "metadata": {},
   "outputs": [
    {
     "name": "stderr",
     "output_type": "stream",
     "text": [
      "<ipython-input-25-a8102f878615>:8: FutureWarning: Indexing with multiple keys (implicitly converted to a tuple of keys) will be deprecated, use a list instead.\n",
      "  time_on_SM = time_online_social_media_2012.groupby(['Perioden'])['SociaalNetwerk_31', 'ProfessioneelNetwerk_32', 'KrantenNieuwsbladenLezenDownloaden_43'].mean()\n"
     ]
    },
    {
     "data": {
      "text/html": [
       "<div>\n",
       "<style scoped>\n",
       "    .dataframe tbody tr th:only-of-type {\n",
       "        vertical-align: middle;\n",
       "    }\n",
       "\n",
       "    .dataframe tbody tr th {\n",
       "        vertical-align: top;\n",
       "    }\n",
       "\n",
       "    .dataframe thead th {\n",
       "        text-align: right;\n",
       "    }\n",
       "</style>\n",
       "<table border=\"1\" class=\"dataframe\">\n",
       "  <thead>\n",
       "    <tr style=\"text-align: right;\">\n",
       "      <th></th>\n",
       "      <th>SociaalNetwerk_31</th>\n",
       "      <th>ProfessioneelNetwerk_32</th>\n",
       "      <th>KrantenNieuwsbladenLezenDownloaden_43</th>\n",
       "    </tr>\n",
       "    <tr>\n",
       "      <th>Perioden</th>\n",
       "      <th></th>\n",
       "      <th></th>\n",
       "      <th></th>\n",
       "    </tr>\n",
       "  </thead>\n",
       "  <tbody>\n",
       "    <tr>\n",
       "      <th>2012JJ00</th>\n",
       "      <td>56.157895</td>\n",
       "      <td>16.957407</td>\n",
       "      <td>47.615789</td>\n",
       "    </tr>\n",
       "    <tr>\n",
       "      <th>2013JJ00</th>\n",
       "      <td>59.301754</td>\n",
       "      <td>20.698039</td>\n",
       "      <td>47.464912</td>\n",
       "    </tr>\n",
       "    <tr>\n",
       "      <th>2014JJ00</th>\n",
       "      <td>60.994737</td>\n",
       "      <td>21.575439</td>\n",
       "      <td>48.998246</td>\n",
       "    </tr>\n",
       "    <tr>\n",
       "      <th>2015JJ00</th>\n",
       "      <td>60.066667</td>\n",
       "      <td>23.272222</td>\n",
       "      <td>47.421053</td>\n",
       "    </tr>\n",
       "    <tr>\n",
       "      <th>2016JJ00</th>\n",
       "      <td>61.964912</td>\n",
       "      <td>23.168421</td>\n",
       "      <td>59.649123</td>\n",
       "    </tr>\n",
       "    <tr>\n",
       "      <th>2017JJ00</th>\n",
       "      <td>68.435088</td>\n",
       "      <td>26.701754</td>\n",
       "      <td>66.728070</td>\n",
       "    </tr>\n",
       "    <tr>\n",
       "      <th>2018JJ00</th>\n",
       "      <td>66.989474</td>\n",
       "      <td>27.201754</td>\n",
       "      <td>62.143860</td>\n",
       "    </tr>\n",
       "    <tr>\n",
       "      <th>2019JJ00</th>\n",
       "      <td>68.149123</td>\n",
       "      <td>28.810526</td>\n",
       "      <td>66.340351</td>\n",
       "    </tr>\n",
       "  </tbody>\n",
       "</table>\n",
       "</div>"
      ],
      "text/plain": [
       "          SociaalNetwerk_31  ProfessioneelNetwerk_32  \\\n",
       "Perioden                                               \n",
       "2012JJ00          56.157895                16.957407   \n",
       "2013JJ00          59.301754                20.698039   \n",
       "2014JJ00          60.994737                21.575439   \n",
       "2015JJ00          60.066667                23.272222   \n",
       "2016JJ00          61.964912                23.168421   \n",
       "2017JJ00          68.435088                26.701754   \n",
       "2018JJ00          66.989474                27.201754   \n",
       "2019JJ00          68.149123                28.810526   \n",
       "\n",
       "          KrantenNieuwsbladenLezenDownloaden_43  \n",
       "Perioden                                         \n",
       "2012JJ00                              47.615789  \n",
       "2013JJ00                              47.464912  \n",
       "2014JJ00                              48.998246  \n",
       "2015JJ00                              47.421053  \n",
       "2016JJ00                              59.649123  \n",
       "2017JJ00                              66.728070  \n",
       "2018JJ00                              62.143860  \n",
       "2019JJ00                              66.340351  "
      ]
     },
     "execution_count": 25,
     "metadata": {},
     "output_type": "execute_result"
    }
   ],
   "source": [
    "time_online_social_media_2012 = pd.read_csv('83429NED_TypedDataSet_25102020_173514.csv', sep=';', usecols=[0,1,2,3,34,35,38,39,46])\n",
    "\n",
    "\n",
    "# time_online_social_media_2012.sort_values(by=['Perioden'], inplace=True)\n",
    "\n",
    "time_online_social_media_2012.loc[time_online_social_media_2012['Perioden'] == '2012JJ00'].head()\n",
    "\n",
    "time_on_SM = time_online_social_media_2012.groupby(['Perioden'])['SociaalNetwerk_31', 'ProfessioneelNetwerk_32', 'KrantenNieuwsbladenLezenDownloaden_43'].mean()\n",
    "\n",
    "time_on_SM\n",
    "\n",
    "# apply linear regression function for a column \n"
   ]
  },
  {
   "cell_type": "code",
   "execution_count": 26,
   "metadata": {},
   "outputs": [
    {
     "data": {
      "text/html": [
       "<div>\n",
       "<style scoped>\n",
       "    .dataframe tbody tr th:only-of-type {\n",
       "        vertical-align: middle;\n",
       "    }\n",
       "\n",
       "    .dataframe tbody tr th {\n",
       "        vertical-align: top;\n",
       "    }\n",
       "\n",
       "    .dataframe thead th {\n",
       "        text-align: right;\n",
       "    }\n",
       "</style>\n",
       "<table border=\"1\" class=\"dataframe\">\n",
       "  <thead>\n",
       "    <tr style=\"text-align: right;\">\n",
       "      <th></th>\n",
       "      <th>SociaalNetwerk_31</th>\n",
       "      <th>ProfessioneelNetwerk_32</th>\n",
       "      <th>KrantenNieuwsbladenLezenDownloaden_43</th>\n",
       "    </tr>\n",
       "  </thead>\n",
       "  <tbody>\n",
       "    <tr>\n",
       "      <th>SociaalNetwerk_31</th>\n",
       "      <td>1.000000</td>\n",
       "      <td>0.959494</td>\n",
       "      <td>0.928338</td>\n",
       "    </tr>\n",
       "    <tr>\n",
       "      <th>ProfessioneelNetwerk_32</th>\n",
       "      <td>0.959494</td>\n",
       "      <td>1.000000</td>\n",
       "      <td>0.855679</td>\n",
       "    </tr>\n",
       "    <tr>\n",
       "      <th>KrantenNieuwsbladenLezenDownloaden_43</th>\n",
       "      <td>0.928338</td>\n",
       "      <td>0.855679</td>\n",
       "      <td>1.000000</td>\n",
       "    </tr>\n",
       "  </tbody>\n",
       "</table>\n",
       "</div>"
      ],
      "text/plain": [
       "                                       SociaalNetwerk_31  \\\n",
       "SociaalNetwerk_31                               1.000000   \n",
       "ProfessioneelNetwerk_32                         0.959494   \n",
       "KrantenNieuwsbladenLezenDownloaden_43           0.928338   \n",
       "\n",
       "                                       ProfessioneelNetwerk_32  \\\n",
       "SociaalNetwerk_31                                     0.959494   \n",
       "ProfessioneelNetwerk_32                               1.000000   \n",
       "KrantenNieuwsbladenLezenDownloaden_43                 0.855679   \n",
       "\n",
       "                                       KrantenNieuwsbladenLezenDownloaden_43  \n",
       "SociaalNetwerk_31                                                   0.928338  \n",
       "ProfessioneelNetwerk_32                                             0.855679  \n",
       "KrantenNieuwsbladenLezenDownloaden_43                               1.000000  "
      ]
     },
     "execution_count": 26,
     "metadata": {},
     "output_type": "execute_result"
    }
   ],
   "source": [
    "time_on_SM.corr()"
   ]
  },
  {
   "cell_type": "code",
   "execution_count": 27,
   "metadata": {},
   "outputs": [
    {
     "data": {
      "text/html": [
       "<div>\n",
       "<style scoped>\n",
       "    .dataframe tbody tr th:only-of-type {\n",
       "        vertical-align: middle;\n",
       "    }\n",
       "\n",
       "    .dataframe tbody tr th {\n",
       "        vertical-align: top;\n",
       "    }\n",
       "\n",
       "    .dataframe thead th {\n",
       "        text-align: right;\n",
       "    }\n",
       "</style>\n",
       "<table border=\"1\" class=\"dataframe\">\n",
       "  <thead>\n",
       "    <tr style=\"text-align: right;\">\n",
       "      <th></th>\n",
       "      <th>Perioden</th>\n",
       "      <th>SociaalNetwerk_31</th>\n",
       "      <th>ProfessioneelNetwerk_32</th>\n",
       "      <th>KrantenNieuwsbladenLezenDownloaden_43</th>\n",
       "    </tr>\n",
       "  </thead>\n",
       "  <tbody>\n",
       "    <tr>\n",
       "      <th>0</th>\n",
       "      <td>2010JJ00</td>\n",
       "      <td>52.731829</td>\n",
       "      <td>13.570801</td>\n",
       "      <td>42.115038</td>\n",
       "    </tr>\n",
       "    <tr>\n",
       "      <th>1</th>\n",
       "      <td>2011JJ00</td>\n",
       "      <td>54.444862</td>\n",
       "      <td>15.264104</td>\n",
       "      <td>44.789975</td>\n",
       "    </tr>\n",
       "    <tr>\n",
       "      <th>2</th>\n",
       "      <td>2012JJ00</td>\n",
       "      <td>56.157895</td>\n",
       "      <td>16.957407</td>\n",
       "      <td>47.615789</td>\n",
       "    </tr>\n",
       "    <tr>\n",
       "      <th>3</th>\n",
       "      <td>2013JJ00</td>\n",
       "      <td>59.301754</td>\n",
       "      <td>20.698039</td>\n",
       "      <td>47.464912</td>\n",
       "    </tr>\n",
       "    <tr>\n",
       "      <th>4</th>\n",
       "      <td>2014JJ00</td>\n",
       "      <td>60.994737</td>\n",
       "      <td>21.575439</td>\n",
       "      <td>48.998246</td>\n",
       "    </tr>\n",
       "    <tr>\n",
       "      <th>5</th>\n",
       "      <td>2015JJ00</td>\n",
       "      <td>60.066667</td>\n",
       "      <td>23.272222</td>\n",
       "      <td>47.421053</td>\n",
       "    </tr>\n",
       "    <tr>\n",
       "      <th>6</th>\n",
       "      <td>2016JJ00</td>\n",
       "      <td>61.964912</td>\n",
       "      <td>23.168421</td>\n",
       "      <td>59.649123</td>\n",
       "    </tr>\n",
       "    <tr>\n",
       "      <th>7</th>\n",
       "      <td>2017JJ00</td>\n",
       "      <td>68.435088</td>\n",
       "      <td>26.701754</td>\n",
       "      <td>66.728070</td>\n",
       "    </tr>\n",
       "    <tr>\n",
       "      <th>8</th>\n",
       "      <td>2018JJ00</td>\n",
       "      <td>66.989474</td>\n",
       "      <td>27.201754</td>\n",
       "      <td>62.143860</td>\n",
       "    </tr>\n",
       "    <tr>\n",
       "      <th>9</th>\n",
       "      <td>2019JJ00</td>\n",
       "      <td>68.149123</td>\n",
       "      <td>28.810526</td>\n",
       "      <td>66.340351</td>\n",
       "    </tr>\n",
       "  </tbody>\n",
       "</table>\n",
       "</div>"
      ],
      "text/plain": [
       "   Perioden  SociaalNetwerk_31  ProfessioneelNetwerk_32  \\\n",
       "0  2010JJ00          52.731829                13.570801   \n",
       "1  2011JJ00          54.444862                15.264104   \n",
       "2  2012JJ00          56.157895                16.957407   \n",
       "3  2013JJ00          59.301754                20.698039   \n",
       "4  2014JJ00          60.994737                21.575439   \n",
       "5  2015JJ00          60.066667                23.272222   \n",
       "6  2016JJ00          61.964912                23.168421   \n",
       "7  2017JJ00          68.435088                26.701754   \n",
       "8  2018JJ00          66.989474                27.201754   \n",
       "9  2019JJ00          68.149123                28.810526   \n",
       "\n",
       "   KrantenNieuwsbladenLezenDownloaden_43  \n",
       "0                              42.115038  \n",
       "1                              44.789975  \n",
       "2                              47.615789  \n",
       "3                              47.464912  \n",
       "4                              48.998246  \n",
       "5                              47.421053  \n",
       "6                              59.649123  \n",
       "7                              66.728070  \n",
       "8                              62.143860  \n",
       "9                              66.340351  "
      ]
     },
     "execution_count": 27,
     "metadata": {},
     "output_type": "execute_result"
    }
   ],
   "source": [
    "new_time = time_on_SM.transpose()\n",
    "new_time.insert(0, '2010JJ00',[52.731829, 13.570801, 42.115038], True)\n",
    "new_time.insert(1, '2011JJ00',[54.444862, 15.264104, 44.789975], True)\n",
    "time_social_media = new_time.transpose()\n",
    "time_social_media = time_social_media.reset_index()\n",
    "time_social_media"
   ]
  },
  {
   "cell_type": "code",
   "execution_count": 28,
   "metadata": {},
   "outputs": [
    {
     "data": {
      "image/png": "[encoded data removed]",
      "text/plain": [
       "<Figure size 432x288 with 1 Axes>"
      ]
     },
     "metadata": {
      "needs_background": "light"
     },
     "output_type": "display_data"
    }
   ],
   "source": [
    "import matplotlib.pyplot as plt\n",
    "import pandas as pd\n",
    "\n",
    "ax = plt.gca()\n",
    "\n",
    "time_social_media.plot(kind='line',x='Perioden',y='SociaalNetwerk_31',ax=ax)\n",
    "time_social_media.plot(kind='line',x='Perioden',y='ProfessioneelNetwerk_32', color='red', ax=ax)\n",
    "time_social_media.plot(kind='line',x='Perioden',y='KrantenNieuwsbladenLezenDownloaden_43', color='green', ax=ax)\n",
    "\n",
    "plt.show()\n"
   ]
  },
  {
   "cell_type": "code",
   "execution_count": null,
   "metadata": {},
   "outputs": [],
   "source": []
  },
  {
   "cell_type": "code",
   "execution_count": null,
   "metadata": {},
   "outputs": [],
   "source": []
  },
  {
   "cell_type": "code",
   "execution_count": 22,
   "metadata": {},
   "outputs": [],
   "source": [
    "# mean of the use of social network \n",
    "\n",
    "# print(time_online_social_media_2012['SociaalNetwerk_31'].mean())\n",
    "\n",
    "# print(time_online_social_media_2013['SociaalNetwerk_31'].mean())\n",
    "\n",
    "# print(time_online_social_media_2014['SociaalNetwerk_31'].mean())\n",
    "\n",
    "# print(time_online_social_media_2015['SociaalNetwerk_31'].mean())\n",
    "\n",
    "# print(time_online_social_media_2016['SociaalNetwerk_31'].mean())\n",
    "\n",
    "# print(time_online_social_media_2017['SociaalNetwerk_31'].mean())\n",
    "\n",
    "# print(time_online_social_media_2018['SociaalNetwerk_31'].mean())"
   ]
  },
  {
   "cell_type": "code",
   "execution_count": 47,
   "metadata": {},
   "outputs": [
    {
     "data": {
      "text/plain": [
       "ID                                                       (249+0j)\n",
       "KenmerkenPersonen                          (50358.26315789473+0j)\n",
       "Marges                                                        NaN\n",
       "Perioden                                                      NaN\n",
       "SociaalNetwerk_31                           (59.3017543859649+0j)\n",
       "ProfessioneelNetwerk_32                   (20.698039215686272+0j)\n",
       "PlaatsenMaatschappPolitiekeMening_35      (24.600000000000005+0j)\n",
       "DeelnemenMaatschappOnlineDiscussies_36     (5.849999999999998+0j)\n",
       "KrantenNieuwsbladenLezenDownloaden_43      (47.46491228070175+0j)\n",
       "dtype: complex128"
      ]
     },
     "execution_count": 47,
     "metadata": {},
     "output_type": "execute_result"
    }
   ],
   "source": [
    "time_online_social_media_2013 = pd.read_csv('83429NED_TypedDataSet_25102020_173514.csv', sep=';', usecols=[0,1,2,3,34,35,38,39,46])\n",
    "\n",
    "\n",
    "# time_online_social_media_2013.sort_values(by=['Perioden'], inplace=True)\n",
    "\n",
    "# time_online_social_media_2013.loc[time_online_social_media_2013['Perioden'] == '2013JJ00'].head()\n",
    "\n",
    "\n",
    "time_online_social_media_2013.loc[time_online_social_media_2013['Perioden'] == '2013JJ00'].mean()\n"
   ]
  },
  {
   "cell_type": "code",
   "execution_count": null,
   "metadata": {},
   "outputs": [],
   "source": []
  },
  {
   "cell_type": "code",
   "execution_count": 49,
   "metadata": {},
   "outputs": [
    {
     "data": {
      "text/plain": [
       "ID                                                       (250+0j)\n",
       "KenmerkenPersonen                          (50358.26315789473+0j)\n",
       "Marges                                                        NaN\n",
       "Perioden                                                      NaN\n",
       "SociaalNetwerk_31                         (60.994736842105254+0j)\n",
       "ProfessioneelNetwerk_32                   (21.575438596491225+0j)\n",
       "PlaatsenMaatschappPolitiekeMening_35                          NaN\n",
       "DeelnemenMaatschappOnlineDiscussies_36                        NaN\n",
       "KrantenNieuwsbladenLezenDownloaden_43      (48.99824561403509+0j)\n",
       "dtype: complex128"
      ]
     },
     "execution_count": 49,
     "metadata": {},
     "output_type": "execute_result"
    }
   ],
   "source": [
    "time_online_social_media_2014 = pd.read_csv('83429NED_TypedDataSet_25102020_173514.csv', sep=';', usecols=[0,1,2,3,34,35,38,39,46])\n",
    "\n",
    "\n",
    "# time_online_social_media_2014.sort_values(by=['Perioden'], inplace=True)\n",
    "\n",
    "# time_online_social_media_2014.loc[time_online_social_media_2014['Perioden'] == '2014JJ00'].head()\n",
    "\n",
    "time_online_social_media_2013.loc[time_online_social_media_2014['Perioden'] == '2014JJ00'].mean()\n",
    "\n"
   ]
  },
  {
   "cell_type": "code",
   "execution_count": 50,
   "metadata": {},
   "outputs": [
    {
     "data": {
      "text/plain": [
       "ID                                                       (251+0j)\n",
       "KenmerkenPersonen                          (50358.26315789473+0j)\n",
       "Marges                                                        NaN\n",
       "Perioden                                                      NaN\n",
       "SociaalNetwerk_31                          (60.06666666666667+0j)\n",
       "ProfessioneelNetwerk_32                    (23.27222222222222+0j)\n",
       "PlaatsenMaatschappPolitiekeMening_35      (21.563157894736843+0j)\n",
       "DeelnemenMaatschappOnlineDiscussies_36      (6.10185185185185+0j)\n",
       "KrantenNieuwsbladenLezenDownloaden_43      (47.42105263157894+0j)\n",
       "dtype: complex128"
      ]
     },
     "execution_count": 50,
     "metadata": {},
     "output_type": "execute_result"
    }
   ],
   "source": [
    "time_online_social_media_2015 = pd.read_csv('83429NED_TypedDataSet_25102020_173514.csv', sep=';', usecols=[0,1,2,3,34,35,38,39,46])\n",
    "\n",
    "\n",
    "# time_online_social_media_2015.sort_values(by=['Perioden'], inplace=True)\n",
    "\n",
    "time_online_social_media_2015.loc[time_online_social_media_2015['Perioden'] == '2015JJ00'].head()\n",
    "\n",
    "time_online_social_media_2015.loc[time_online_social_media_2015['Perioden'] == '2015JJ00'].mean()\n"
   ]
  },
  {
   "cell_type": "code",
   "execution_count": 51,
   "metadata": {},
   "outputs": [
    {
     "data": {
      "text/plain": [
       "ID                                                       (252+0j)\n",
       "KenmerkenPersonen                          (50358.26315789473+0j)\n",
       "Marges                                                        NaN\n",
       "Perioden                                                      NaN\n",
       "SociaalNetwerk_31                         (61.964912280701746+0j)\n",
       "ProfessioneelNetwerk_32                   (23.168421052631576+0j)\n",
       "PlaatsenMaatschappPolitiekeMening_35      (22.542105263157897+0j)\n",
       "DeelnemenMaatschappOnlineDiscussies_36     (6.949122807017541+0j)\n",
       "KrantenNieuwsbladenLezenDownloaden_43      (59.64912280701753+0j)\n",
       "dtype: complex128"
      ]
     },
     "execution_count": 51,
     "metadata": {},
     "output_type": "execute_result"
    }
   ],
   "source": [
    "time_online_social_media_2016 = pd.read_csv('83429NED_TypedDataSet_25102020_173514.csv', sep=';', usecols=[0,1,2,3,34,35,38,39,46])\n",
    "\n",
    "\n",
    "# time_online_social_media_2016.sort_values(by=['Perioden'], inplace=True)\n",
    "\n",
    "time_online_social_media_2016.loc[time_online_social_media_2016['Perioden'] == '2016JJ00'].head()\n",
    "\n",
    "time_online_social_media_2016.loc[time_online_social_media_2016['Perioden'] == '2016JJ00'].mean()\n"
   ]
  },
  {
   "cell_type": "code",
   "execution_count": 52,
   "metadata": {},
   "outputs": [
    {
     "data": {
      "text/plain": [
       "ID                                                       (253+0j)\n",
       "KenmerkenPersonen                          (50358.26315789473+0j)\n",
       "Marges                                                        NaN\n",
       "Perioden                                                      NaN\n",
       "SociaalNetwerk_31                          (68.43508771929822+0j)\n",
       "ProfessioneelNetwerk_32                   (26.701754385964904+0j)\n",
       "PlaatsenMaatschappPolitiekeMening_35       (7.842105263157898+0j)\n",
       "DeelnemenMaatschappOnlineDiscussies_36     (8.770175438596489+0j)\n",
       "KrantenNieuwsbladenLezenDownloaden_43       (66.7280701754386+0j)\n",
       "dtype: complex128"
      ]
     },
     "execution_count": 52,
     "metadata": {},
     "output_type": "execute_result"
    }
   ],
   "source": [
    "time_online_social_media_2017 = pd.read_csv('83429NED_TypedDataSet_25102020_173514.csv', sep=';', usecols=[0,1,2,3,34,35,38,39,46])\n",
    "\n",
    "\n",
    "# time_online_social_media_2017.sort_values(by=['Perioden'], inplace=True)\n",
    "\n",
    "time_online_social_media_2017.loc[time_online_social_media_2017['Perioden'] == '2017JJ00'].head()\n",
    "\n",
    "time_online_social_media_2017.loc[time_online_social_media_2017['Perioden'] == '2017JJ00'].mean()\n",
    "\n"
   ]
  },
  {
   "cell_type": "code",
   "execution_count": 53,
   "metadata": {},
   "outputs": [
    {
     "data": {
      "text/plain": [
       "ID                                                       (253+0j)\n",
       "KenmerkenPersonen                          (50358.26315789473+0j)\n",
       "Marges                                                        NaN\n",
       "Perioden                                                      NaN\n",
       "SociaalNetwerk_31                          (68.43508771929822+0j)\n",
       "ProfessioneelNetwerk_32                   (26.701754385964904+0j)\n",
       "PlaatsenMaatschappPolitiekeMening_35       (7.842105263157898+0j)\n",
       "DeelnemenMaatschappOnlineDiscussies_36     (8.770175438596489+0j)\n",
       "KrantenNieuwsbladenLezenDownloaden_43       (66.7280701754386+0j)\n",
       "dtype: complex128"
      ]
     },
     "execution_count": 53,
     "metadata": {},
     "output_type": "execute_result"
    }
   ],
   "source": [
    "time_online_social_media_2018 = pd.read_csv('83429NED_TypedDataSet_25102020_173514.csv', sep=';', usecols=[0,1,2,3,34,35,38,39,46])\n",
    "\n",
    "\n",
    "# time_online_social_media_2018.sort_values(by=['Perioden'], inplace=True)\n",
    "\n",
    "time_online_social_media_2018.loc[time_online_social_media_2018['Perioden'] == '2018JJ00'].head()\n",
    "\n",
    "time_online_social_media_2017.loc[time_online_social_media_2017['Perioden'] == '2017JJ00'].mean()\n",
    "\n"
   ]
  },
  {
   "cell_type": "code",
   "execution_count": 54,
   "metadata": {},
   "outputs": [
    {
     "data": {
      "text/plain": [
       "ID                                                       (255+0j)\n",
       "KenmerkenPersonen                          (50358.26315789473+0j)\n",
       "Marges                                                        NaN\n",
       "Perioden                                                      NaN\n",
       "SociaalNetwerk_31                          (68.14912280701752+0j)\n",
       "ProfessioneelNetwerk_32                   (28.810526315789478+0j)\n",
       "PlaatsenMaatschappPolitiekeMening_35       (7.970175438596491+0j)\n",
       "DeelnemenMaatschappOnlineDiscussies_36     (8.431578947368422+0j)\n",
       "KrantenNieuwsbladenLezenDownloaden_43      (66.34035087719298+0j)\n",
       "dtype: complex128"
      ]
     },
     "execution_count": 54,
     "metadata": {},
     "output_type": "execute_result"
    }
   ],
   "source": [
    "time_online_social_media_2019 = pd.read_csv('83429NED_TypedDataSet_25102020_173514.csv', sep=';', usecols=[0,1,2,3,34,35,38,39,46])\n",
    "\n",
    "\n",
    "# time_online_social_media_2019.sort_values(by=['Perioden'], inplace=True)\n",
    "\n",
    "time_online_social_media_2019.loc[time_online_social_media_2019['Perioden'] == '2019JJ00'].head()\n",
    "\n",
    "time_online_social_media_2019.loc[time_online_social_media_2019['Perioden'] == '2019JJ00'].mean()\n",
    "\n"
   ]
  },
  {
   "cell_type": "code",
   "execution_count": null,
   "metadata": {},
   "outputs": [],
   "source": []
  },
  {
   "cell_type": "code",
   "execution_count": null,
   "metadata": {},
   "outputs": [],
   "source": [
    "time_online = pd.read_csv('83429NED_TypedDataSet_25102020_173514.csv', sep=';', usecols=[0,1,2,3,30,31,32,33,34,35,36,37,38,39,44,45,46,53])\n",
    "\n",
    "\n",
    "time_online.sort_values(by=['Perioden'], inplace=True)\n",
    "\n",
    "time_online.set_index('Perioden').head()\n",
    "\n",
    "# about what people do IF they are online\n",
    "# how do they spent their time "
   ]
  },
  {
   "cell_type": "code",
   "execution_count": null,
   "metadata": {},
   "outputs": [],
   "source": [
    "time_online_1 = pd.read_csv('83429NED_TypedDataSet_25102020_173514.csv', sep=';', usecols=[0,1,2,3,12,13,14,15,16,17,18])\n",
    "\n",
    "time_online_1.sort_values(by=['Perioden'], inplace=True)\n",
    "\n",
    "time_online_1.set_index('Perioden').head()\n",
    "\n",
    "# I'm not sure if I understand Searching on websites, because in the dataframe there were 3 different columns \n",
    "# with this name, but different values\n",
    "\n",
    "# how often do they spend their time online"
   ]
  },
  {
   "cell_type": "code",
   "execution_count": null,
   "metadata": {},
   "outputs": [],
   "source": [
    "time_online_3 = pd.read_csv('83429NED_TypedDataSet_25102020_173514.csv', sep=';', usecols=[0,1,2,3,12,13,14,15,16,17,18])\n",
    "\n",
    "time_online_3.sort_values(by=['Perioden'], inplace=True)\n",
    "\n",
    "time_online_3.set_index('Perioden').head()"
   ]
  }
 ],
 "metadata": {
  "kernelspec": {
   "display_name": "Python 3",
   "language": "python",
   "name": "python3"
  },
  "language_info": {
   "codemirror_mode": {
    "name": "ipython",
    "version": 3
   },
   "file_extension": ".py",
   "mimetype": "text/x-python",
   "name": "python",
   "nbconvert_exporter": "python",
   "pygments_lexer": "ipython3",
   "version": "3.8.3"
  }
 },
 "nbformat": 4,
 "nbformat_minor": 2
}
